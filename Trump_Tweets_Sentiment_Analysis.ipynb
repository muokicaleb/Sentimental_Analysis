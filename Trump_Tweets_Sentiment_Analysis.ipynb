{
 "cells": [
  {
   "cell_type": "markdown",
   "metadata": {},
   "source": [
    "# Sentiment Analyisis On Trumps Tweets\n",
    "<p>The objectives of this project are:\n",
    "<ol>\n",
    "    <li>Extract twitter data using tweepy and pandas</li>\n",
    "    <li>Statistics and visualizations with numpy, matplotlib and seaborn</li>\n",
    "    <li>Sentimental analysis on tweets using textblob</li>\n",
    "</ol>\n",
    "</p>\n",
    "\n",
    "<h3>Requirements</h3>\n",
    "<ul>\n",
    "    <li>Python3.6/2.7</li>\n",
    "    <li>numpy</li>\n",
    "    <li>pandas</li>\n",
    "    <li>Matplotlib</li>\n",
    "    <li>Seaborn</li>\n",
    "    <li>Textblob</li>\n",
    "</ul>"
   ]
  },
  {
   "cell_type": "code",
   "execution_count": 66,
   "metadata": {},
   "outputs": [],
   "source": [
    "import matplotlib.pyplot as plt      #plotting\n",
    "import numpy as np                    # number computation\n",
    "import pandas as pd                   # Data Handling\n",
    "import re                             # Regular expressions\n",
    "import seaborn as sns                 #data visualization library based on matplotlib\n",
    "import tweepy                         #twitter's API\n",
    "import twitter_credentials            # this is a file that includes twitter creds\n",
    "from IPython.display import display\n",
    "from textblob import TextBlob\n",
    "\n",
    "\n",
    "#print the graphs in the browser window\n",
    "%matplotlib inline "
   ]
  },
  {
   "cell_type": "code",
   "execution_count": 67,
   "metadata": {},
   "outputs": [],
   "source": [
    "def twitter_setup():\n",
    "    auth = tweepy.OAuthHandler(twitter_credentials.CONSUMER_KEY, twitter_credentials.CONSUMER_SECRET)\n",
    "    auth.set_access_token(twitter_credentials.ACCESS_TOKEN, twitter_credentials.ACCESS_TOKEN_SECRET)\n",
    "    api = tweepy.API(auth)\n",
    "    return api"
   ]
  },
  {
   "cell_type": "markdown",
   "metadata": {},
   "source": [
    "<h3>Tweet extraction</h3>"
   ]
  },
  {
   "cell_type": "code",
   "execution_count": 68,
   "metadata": {},
   "outputs": [
    {
     "name": "stdout",
     "output_type": "stream",
     "text": [
      "Tweets Extracted: 145.\n",
      "\n"
     ]
    }
   ],
   "source": [
    "# call the function we had created\n",
    "extractor = twitter_setup()\n",
    "sname = \"muoki_caleb\"\n",
    "# using the api we make a list of the latest 200 tweets py realDonaldTrump\n",
    "tweets = extractor.user_timeline(screen_name=sname, count = 200)\n",
    "\n",
    "print(\"Tweets Extracted: {}.\\n\".format(len(tweets)))"
   ]
  },
  {
   "cell_type": "markdown",
   "metadata": {},
   "source": [
    "<p>As expected we have extracted 200 tweets.<br/>\n",
    "api.user_timeline() takes a couple of arguments in our case we specified the screen_name of the user we wanted if we hadn't it would have used our own username by default. We set the number of tweets to 200. by default the rate is lower than 200.<br/>\n",
    "</p>\n",
    "<p>We can print the first 10 tweets.</p>"
   ]
  },
  {
   "cell_type": "code",
   "execution_count": 69,
   "metadata": {},
   "outputs": [
    {
     "name": "stdout",
     "output_type": "stream",
     "text": [
      "recent 10 tweeets\n",
      "RT @aina_akin: Very well said! https://t.co/2GcRD93MZy\n",
      "\n",
      "Google, Apple ditch college degree requirements https://t.co/nRi9vsOAhJ\n",
      "\n",
      "RT @KaraniJean: There are only two types of speakers the nervous ones and the liars ~ Mark Twain\n",
      "\n",
      "RT @checkmatefc: Youh help out your bro here https://t.co/7YIchpdXJ0\n",
      "\n",
      "RT @autumnbragwell: let’s settle this:\n",
      "Does pineapple belong on pizza?\n",
      "RT for yes                                                       Fav…\n",
      "\n",
      "Talking about how good you are at cutting people off  must be the most loneliest/childish thing ever. \n",
      "Drop your eg… https://t.co/v4VhmyUWIM\n",
      "\n",
      "Writing readable python code .\n",
      "\n",
      "https://t.co/gH9HB6u9py\n",
      "\n",
      "I was wrong about the Bluetooth connectivity .\n",
      "thanks @ghollahkioko  for pointing it out.\n",
      "\n",
      "Does anyone know or is part of an active Linux user group in Kenya ?\n",
      "\n",
      "RT @linuxTheTux: How to reset a Windows password with Linux https://t.co/VxMSXIEcVc\n",
      "\n"
     ]
    }
   ],
   "source": [
    "# we can print the first 10 tweets\n",
    "print(\"recent 10 tweeets\")\n",
    "for tweet in tweets[:10]:\n",
    "    print(tweet.text)\n",
    "    print()"
   ]
  },
  {
   "cell_type": "markdown",
   "metadata": {},
   "source": [
    "<h3>Creating a Dataframe</h3>\n",
    "Using a dataframe will enable us to easily manipulate data extracted."
   ]
  },
  {
   "cell_type": "code",
   "execution_count": 70,
   "metadata": {
    "scrolled": false
   },
   "outputs": [
    {
     "data": {
      "text/html": [
       "<div>\n",
       "<style scoped>\n",
       "    .dataframe tbody tr th:only-of-type {\n",
       "        vertical-align: middle;\n",
       "    }\n",
       "\n",
       "    .dataframe tbody tr th {\n",
       "        vertical-align: top;\n",
       "    }\n",
       "\n",
       "    .dataframe thead th {\n",
       "        text-align: right;\n",
       "    }\n",
       "</style>\n",
       "<table border=\"1\" class=\"dataframe\">\n",
       "  <thead>\n",
       "    <tr style=\"text-align: right;\">\n",
       "      <th></th>\n",
       "      <th>Tweets</th>\n",
       "      <th>len</th>\n",
       "      <th>ID</th>\n",
       "      <th>Date</th>\n",
       "      <th>Source</th>\n",
       "      <th>Likes</th>\n",
       "      <th>RTs</th>\n",
       "    </tr>\n",
       "  </thead>\n",
       "  <tbody>\n",
       "    <tr>\n",
       "      <th>0</th>\n",
       "      <td>RT @aina_akin: Very well said! https://t.co/2G...</td>\n",
       "      <td>54</td>\n",
       "      <td>1033418990490714112</td>\n",
       "      <td>2018-08-25 18:21:01</td>\n",
       "      <td>Twitter Lite</td>\n",
       "      <td>0</td>\n",
       "      <td>8</td>\n",
       "    </tr>\n",
       "    <tr>\n",
       "      <th>1</th>\n",
       "      <td>Google, Apple ditch college degree requirement...</td>\n",
       "      <td>71</td>\n",
       "      <td>1032626200307478528</td>\n",
       "      <td>2018-08-23 13:50:46</td>\n",
       "      <td>Twitter Web Client</td>\n",
       "      <td>0</td>\n",
       "      <td>0</td>\n",
       "    </tr>\n",
       "    <tr>\n",
       "      <th>2</th>\n",
       "      <td>RT @KaraniJean: There are only two types of sp...</td>\n",
       "      <td>96</td>\n",
       "      <td>1032326023159984128</td>\n",
       "      <td>2018-08-22 17:57:58</td>\n",
       "      <td>Twitter Lite</td>\n",
       "      <td>0</td>\n",
       "      <td>3</td>\n",
       "    </tr>\n",
       "    <tr>\n",
       "      <th>3</th>\n",
       "      <td>RT @checkmatefc: Youh help out your bro here h...</td>\n",
       "      <td>68</td>\n",
       "      <td>1032242997398781952</td>\n",
       "      <td>2018-08-22 12:28:03</td>\n",
       "      <td>Twitter Lite</td>\n",
       "      <td>0</td>\n",
       "      <td>692</td>\n",
       "    </tr>\n",
       "    <tr>\n",
       "      <th>4</th>\n",
       "      <td>RT @autumnbragwell: let’s settle this:\\nDoes p...</td>\n",
       "      <td>140</td>\n",
       "      <td>1031949769365757952</td>\n",
       "      <td>2018-08-21 17:02:52</td>\n",
       "      <td>Twitter Lite</td>\n",
       "      <td>0</td>\n",
       "      <td>247582</td>\n",
       "    </tr>\n",
       "    <tr>\n",
       "      <th>5</th>\n",
       "      <td>Talking about how good you are at cutting peop...</td>\n",
       "      <td>140</td>\n",
       "      <td>1031435046358589440</td>\n",
       "      <td>2018-08-20 06:57:32</td>\n",
       "      <td>Twitter Lite</td>\n",
       "      <td>6</td>\n",
       "      <td>0</td>\n",
       "    </tr>\n",
       "    <tr>\n",
       "      <th>6</th>\n",
       "      <td>Writing readable python code .\\n\\nhttps://t.co...</td>\n",
       "      <td>55</td>\n",
       "      <td>1031043759226724352</td>\n",
       "      <td>2018-08-19 05:02:42</td>\n",
       "      <td>Twitter Lite</td>\n",
       "      <td>0</td>\n",
       "      <td>0</td>\n",
       "    </tr>\n",
       "    <tr>\n",
       "      <th>7</th>\n",
       "      <td>I was wrong about the Bluetooth connectivity ....</td>\n",
       "      <td>89</td>\n",
       "      <td>1030794616252104704</td>\n",
       "      <td>2018-08-18 12:32:42</td>\n",
       "      <td>Twitter Lite</td>\n",
       "      <td>0</td>\n",
       "      <td>0</td>\n",
       "    </tr>\n",
       "    <tr>\n",
       "      <th>8</th>\n",
       "      <td>Does anyone know or is part of an active Linux...</td>\n",
       "      <td>68</td>\n",
       "      <td>1030403309998354432</td>\n",
       "      <td>2018-08-17 10:37:47</td>\n",
       "      <td>Twitter Lite</td>\n",
       "      <td>0</td>\n",
       "      <td>0</td>\n",
       "    </tr>\n",
       "    <tr>\n",
       "      <th>9</th>\n",
       "      <td>RT @linuxTheTux: How to reset a Windows passwo...</td>\n",
       "      <td>83</td>\n",
       "      <td>1030398708452651008</td>\n",
       "      <td>2018-08-17 10:19:30</td>\n",
       "      <td>Twitter Lite</td>\n",
       "      <td>0</td>\n",
       "      <td>1</td>\n",
       "    </tr>\n",
       "  </tbody>\n",
       "</table>\n",
       "</div>"
      ],
      "text/plain": [
       "                                              Tweets  len  \\\n",
       "0  RT @aina_akin: Very well said! https://t.co/2G...   54   \n",
       "1  Google, Apple ditch college degree requirement...   71   \n",
       "2  RT @KaraniJean: There are only two types of sp...   96   \n",
       "3  RT @checkmatefc: Youh help out your bro here h...   68   \n",
       "4  RT @autumnbragwell: let’s settle this:\\nDoes p...  140   \n",
       "5  Talking about how good you are at cutting peop...  140   \n",
       "6  Writing readable python code .\\n\\nhttps://t.co...   55   \n",
       "7  I was wrong about the Bluetooth connectivity ....   89   \n",
       "8  Does anyone know or is part of an active Linux...   68   \n",
       "9  RT @linuxTheTux: How to reset a Windows passwo...   83   \n",
       "\n",
       "                    ID                Date              Source  Likes     RTs  \n",
       "0  1033418990490714112 2018-08-25 18:21:01        Twitter Lite      0       8  \n",
       "1  1032626200307478528 2018-08-23 13:50:46  Twitter Web Client      0       0  \n",
       "2  1032326023159984128 2018-08-22 17:57:58        Twitter Lite      0       3  \n",
       "3  1032242997398781952 2018-08-22 12:28:03        Twitter Lite      0     692  \n",
       "4  1031949769365757952 2018-08-21 17:02:52        Twitter Lite      0  247582  \n",
       "5  1031435046358589440 2018-08-20 06:57:32        Twitter Lite      6       0  \n",
       "6  1031043759226724352 2018-08-19 05:02:42        Twitter Lite      0       0  \n",
       "7  1030794616252104704 2018-08-18 12:32:42        Twitter Lite      0       0  \n",
       "8  1030403309998354432 2018-08-17 10:37:47        Twitter Lite      0       0  \n",
       "9  1030398708452651008 2018-08-17 10:19:30        Twitter Lite      0       1  "
      ]
     },
     "metadata": {},
     "output_type": "display_data"
    }
   ],
   "source": [
    "data = pd.DataFrame(data=[tweet.text for tweet in tweets], columns=['Tweets'])\n",
    "data['len']  = np.array([len(tweet.text) for tweet in tweets])\n",
    "data['ID']   = np.array([tweet.id for tweet in tweets])\n",
    "data['Date'] = np.array([tweet.created_at for tweet in tweets])\n",
    "data['Source'] = np.array([tweet.source for tweet in tweets])\n",
    "data['Likes']  = np.array([tweet.favorite_count for tweet in tweets])\n",
    "data['RTs']    = np.array([tweet.retweet_count for tweet in tweets])\n",
    "\n",
    "#To display the first 10 tweets\n",
    "display(data.head(10))\n",
    "\n",
    "\n"
   ]
  },
  {
   "cell_type": "markdown",
   "metadata": {},
   "source": [
    "## Visualization and statistics\n",
    "<p>we can be able to get the mean length and most popular tweets. </p>"
   ]
  },
  {
   "cell_type": "code",
   "execution_count": 71,
   "metadata": {},
   "outputs": [
    {
     "name": "stdout",
     "output_type": "stream",
     "text": [
      "the mean length of the tweets is: 113.0551724137931\n"
     ]
    }
   ],
   "source": [
    "# mean\n",
    "\n",
    "mean = np.mean(data['len'])\n",
    "print(\"the mean length of the tweets is: {}\".format(mean))"
   ]
  },
  {
   "cell_type": "code",
   "execution_count": 72,
   "metadata": {},
   "outputs": [
    {
     "name": "stdout",
     "output_type": "stream",
     "text": [
      "Tweet with most number of likes is: \n",
      "The best decision I ever made was joining @KamiLimu . \n",
      "Dr @chao_mbogho  and company have positively changed my out… https://t.co/SpAhiFgR6x\n",
      "NUmber of likes: 25\n",
      "139 characters.\n",
      "\n"
     ]
    }
   ],
   "source": [
    "# extract tweets with  the most number of likes\n",
    "favourite_max = np.max(data['Likes'])\n",
    "\n",
    "favourite = data[data.Likes == favourite_max].index[0]\n",
    "\n",
    "# max likes\n",
    "print(\"Tweet with most number of likes is: \\n{}\".format(data['Tweets'][favourite]))\n",
    "print(\"NUmber of likes: {}\".format(favourite_max))\n",
    "print(\"{} characters.\\n\".format(data['len'][favourite]))"
   ]
  },
  {
   "cell_type": "code",
   "execution_count": 73,
   "metadata": {},
   "outputs": [
    {
     "name": "stdout",
     "output_type": "stream",
     "text": [
      "Tweet with most retweets is: \n",
      "RT @autumnbragwell: let’s settle this:\n",
      "Does pineapple belong on pizza?\n",
      "RT for yes                                                       Fav…\n",
      "Number of retweets: 247582\n",
      "140 characters.\n",
      "\n"
     ]
    }
   ],
   "source": [
    "# Extract tweet with most number of retweets\n",
    "\n",
    "retweet_max = np.max(data['RTs'])\n",
    "retweets = data[data.RTs == retweet_max].index[0]\n",
    "\n",
    "# max retweets\n",
    "print(\"Tweet with most retweets is: \\n{}\".format(data['Tweets'][retweets]))\n",
    "print(\"Number of retweets: {}\".format(retweet_max))\n",
    "print(\"{} characters.\\n\".format(data['len'][retweets]))"
   ]
  },
  {
   "cell_type": "markdown",
   "metadata": {},
   "source": [
    "<h3>Time series of the data</h3>"
   ]
  },
  {
   "cell_type": "code",
   "execution_count": 74,
   "metadata": {},
   "outputs": [],
   "source": [
    "tweet_length = pd.Series(data=data['len'].values, index=data['Date'])\n",
    "tweet_favourite = pd.Series(data=data['Likes'].values, index=data['Date'])\n",
    "tweet_retweet = pd.Series(data=data['RTs'].values, index=data['Date'])"
   ]
  },
  {
   "cell_type": "code",
   "execution_count": 75,
   "metadata": {},
   "outputs": [
    {
     "data": {
      "text/plain": [
       "<matplotlib.axes._subplots.AxesSubplot at 0x7fab2c348358>"
      ]
     },
     "execution_count": 75,
     "metadata": {},
     "output_type": "execute_result"
    },
    {
     "data": {
      "image/png": "[encoded data removed]",
      "text/plain": [
       "<Figure size 1440x360 with 1 Axes>"
      ]
     },
     "metadata": {},
     "output_type": "display_data"
    }
   ],
   "source": [
    "# plot of the length of tweets vs period of time\n",
    "tweet_length.plot(figsize=(20,5),color='r')"
   ]
  },
  {
   "cell_type": "code",
   "execution_count": 76,
   "metadata": {},
   "outputs": [
    {
     "data": {
      "text/plain": [
       "<matplotlib.axes._subplots.AxesSubplot at 0x7fab2c4f8128>"
      ]
     },
     "execution_count": 76,
     "metadata": {},
     "output_type": "execute_result"
    },
    {
     "data": {
      "image/png": "[encoded data removed]",
      "text/plain": [
       "<Figure size 1440x576 with 1 Axes>"
      ]
     },
     "metadata": {},
     "output_type": "display_data"
    }
   ],
   "source": [
    "# likes and retweeets\n",
    "tweet_favourite.plot(figsize=(20,8), label=\"Likes\", legend=True)\n",
    "tweet_retweet.plot(figsize=(20,8), label=\"Retweets\", legend=True )"
   ]
  },
  {
   "cell_type": "markdown",
   "metadata": {},
   "source": [
    "<p>We can see theat the more likes the more retweets. </p>\n",
    "<p>It would be interesting to find out the sources from which the tweets come from. There is a high chance that if the tweets come from various sources there is more than one person tweeting the content or the user has more than one device.</p>"
   ]
  },
  {
   "cell_type": "code",
   "execution_count": 77,
   "metadata": {},
   "outputs": [
    {
     "name": "stdout",
     "output_type": "stream",
     "text": [
      "Content sources: \n",
      "* Twitter Lite\n",
      "* Twitter Web Client\n"
     ]
    }
   ],
   "source": [
    "sources = []\n",
    "for source in data['Source']:\n",
    "    if source not in sources:\n",
    "        sources.append(source)\n",
    "        \n",
    "#print the sources\n",
    "print(\"Content sources: \")\n",
    "for source in sources:\n",
    "    print(\"* {}\".format(source))"
   ]
  },
  {
   "cell_type": "markdown",
   "metadata": {},
   "source": [
    "<p>We can make a pie chart to visualize which source is most used</p>"
   ]
  },
  {
   "cell_type": "code",
   "execution_count": 78,
   "metadata": {},
   "outputs": [
    {
     "data": {
      "text/plain": [
       "<matplotlib.axes._subplots.AxesSubplot at 0x7fab2c492588>"
      ]
     },
     "execution_count": 78,
     "metadata": {},
     "output_type": "execute_result"
    },
    {
     "data": {
      "image/png": "[encoded data removed]",
      "text/plain": [
       "<Figure size 432x432 with 1 Axes>"
      ]
     },
     "metadata": {},
     "output_type": "display_data"
    }
   ],
   "source": [
    "percent = np.zeros(len(sources))\n",
    "\n",
    "for source in data['Source']:\n",
    "    for index in range(len(sources)):\n",
    "        if source == sources[index]:\n",
    "            percent[index] += 1\n",
    "            pass\n",
    "\n",
    "percent /= 100\n",
    "\n",
    "pie_chart = pd.Series(percent, index=sources, name='Sources')\n",
    "pie_chart.plot.pie(fontsize=11, autopct='%.2f', figsize=(6, 6))\n",
    "\n"
   ]
  },
  {
   "cell_type": "markdown",
   "metadata": {},
   "source": [
    "## Sentiment Analysis\n"
   ]
  },
  {
   "cell_type": "code",
   "execution_count": 79,
   "metadata": {},
   "outputs": [],
   "source": [
    "def clean_tweet(tweet):\n",
    "    # removing linkss and special characters using regx\n",
    "    return ''.join(re.sub(\"(@[A-Za-z0-9]+)|([^0-9A-Za-z \\t])|(\\w+:\\/\\/\\S+)\", \" \", tweet).split())\n",
    "\n",
    "def analize_sentiment(tweet):\n",
    "    # classify the polarity of a tweet using textblob.\n",
    "    \n",
    "    analysis = TextBlob(clean_tweet(tweet))\n",
    "    if analysis.sentiment.polarity > 0:\n",
    "        return 1\n",
    "    elif analysis.sentiment.polarity == 0:\n",
    "        return 0\n",
    "    else:\n",
    "        return -1"
   ]
  },
  {
   "cell_type": "code",
   "execution_count": 80,
   "metadata": {},
   "outputs": [
    {
     "data": {
      "text/html": [
       "<div>\n",
       "<style scoped>\n",
       "    .dataframe tbody tr th:only-of-type {\n",
       "        vertical-align: middle;\n",
       "    }\n",
       "\n",
       "    .dataframe tbody tr th {\n",
       "        vertical-align: top;\n",
       "    }\n",
       "\n",
       "    .dataframe thead th {\n",
       "        text-align: right;\n",
       "    }\n",
       "</style>\n",
       "<table border=\"1\" class=\"dataframe\">\n",
       "  <thead>\n",
       "    <tr style=\"text-align: right;\">\n",
       "      <th></th>\n",
       "      <th>Tweets</th>\n",
       "      <th>len</th>\n",
       "      <th>ID</th>\n",
       "      <th>Date</th>\n",
       "      <th>Source</th>\n",
       "      <th>Likes</th>\n",
       "      <th>RTs</th>\n",
       "      <th>SA</th>\n",
       "    </tr>\n",
       "  </thead>\n",
       "  <tbody>\n",
       "    <tr>\n",
       "      <th>0</th>\n",
       "      <td>RT @aina_akin: Very well said! https://t.co/2G...</td>\n",
       "      <td>54</td>\n",
       "      <td>1033418990490714112</td>\n",
       "      <td>2018-08-25 18:21:01</td>\n",
       "      <td>Twitter Lite</td>\n",
       "      <td>0</td>\n",
       "      <td>8</td>\n",
       "      <td>0</td>\n",
       "    </tr>\n",
       "    <tr>\n",
       "      <th>1</th>\n",
       "      <td>Google, Apple ditch college degree requirement...</td>\n",
       "      <td>71</td>\n",
       "      <td>1032626200307478528</td>\n",
       "      <td>2018-08-23 13:50:46</td>\n",
       "      <td>Twitter Web Client</td>\n",
       "      <td>0</td>\n",
       "      <td>0</td>\n",
       "      <td>0</td>\n",
       "    </tr>\n",
       "    <tr>\n",
       "      <th>2</th>\n",
       "      <td>RT @KaraniJean: There are only two types of sp...</td>\n",
       "      <td>96</td>\n",
       "      <td>1032326023159984128</td>\n",
       "      <td>2018-08-22 17:57:58</td>\n",
       "      <td>Twitter Lite</td>\n",
       "      <td>0</td>\n",
       "      <td>3</td>\n",
       "      <td>0</td>\n",
       "    </tr>\n",
       "    <tr>\n",
       "      <th>3</th>\n",
       "      <td>RT @checkmatefc: Youh help out your bro here h...</td>\n",
       "      <td>68</td>\n",
       "      <td>1032242997398781952</td>\n",
       "      <td>2018-08-22 12:28:03</td>\n",
       "      <td>Twitter Lite</td>\n",
       "      <td>0</td>\n",
       "      <td>692</td>\n",
       "      <td>0</td>\n",
       "    </tr>\n",
       "    <tr>\n",
       "      <th>4</th>\n",
       "      <td>RT @autumnbragwell: let’s settle this:\\nDoes p...</td>\n",
       "      <td>140</td>\n",
       "      <td>1031949769365757952</td>\n",
       "      <td>2018-08-21 17:02:52</td>\n",
       "      <td>Twitter Lite</td>\n",
       "      <td>0</td>\n",
       "      <td>247582</td>\n",
       "      <td>0</td>\n",
       "    </tr>\n",
       "    <tr>\n",
       "      <th>5</th>\n",
       "      <td>Talking about how good you are at cutting peop...</td>\n",
       "      <td>140</td>\n",
       "      <td>1031435046358589440</td>\n",
       "      <td>2018-08-20 06:57:32</td>\n",
       "      <td>Twitter Lite</td>\n",
       "      <td>6</td>\n",
       "      <td>0</td>\n",
       "      <td>0</td>\n",
       "    </tr>\n",
       "    <tr>\n",
       "      <th>6</th>\n",
       "      <td>Writing readable python code .\\n\\nhttps://t.co...</td>\n",
       "      <td>55</td>\n",
       "      <td>1031043759226724352</td>\n",
       "      <td>2018-08-19 05:02:42</td>\n",
       "      <td>Twitter Lite</td>\n",
       "      <td>0</td>\n",
       "      <td>0</td>\n",
       "      <td>0</td>\n",
       "    </tr>\n",
       "    <tr>\n",
       "      <th>7</th>\n",
       "      <td>I was wrong about the Bluetooth connectivity ....</td>\n",
       "      <td>89</td>\n",
       "      <td>1030794616252104704</td>\n",
       "      <td>2018-08-18 12:32:42</td>\n",
       "      <td>Twitter Lite</td>\n",
       "      <td>0</td>\n",
       "      <td>0</td>\n",
       "      <td>0</td>\n",
       "    </tr>\n",
       "    <tr>\n",
       "      <th>8</th>\n",
       "      <td>Does anyone know or is part of an active Linux...</td>\n",
       "      <td>68</td>\n",
       "      <td>1030403309998354432</td>\n",
       "      <td>2018-08-17 10:37:47</td>\n",
       "      <td>Twitter Lite</td>\n",
       "      <td>0</td>\n",
       "      <td>0</td>\n",
       "      <td>0</td>\n",
       "    </tr>\n",
       "    <tr>\n",
       "      <th>9</th>\n",
       "      <td>RT @linuxTheTux: How to reset a Windows passwo...</td>\n",
       "      <td>83</td>\n",
       "      <td>1030398708452651008</td>\n",
       "      <td>2018-08-17 10:19:30</td>\n",
       "      <td>Twitter Lite</td>\n",
       "      <td>0</td>\n",
       "      <td>1</td>\n",
       "      <td>0</td>\n",
       "    </tr>\n",
       "  </tbody>\n",
       "</table>\n",
       "</div>"
      ],
      "text/plain": [
       "                                              Tweets  len  \\\n",
       "0  RT @aina_akin: Very well said! https://t.co/2G...   54   \n",
       "1  Google, Apple ditch college degree requirement...   71   \n",
       "2  RT @KaraniJean: There are only two types of sp...   96   \n",
       "3  RT @checkmatefc: Youh help out your bro here h...   68   \n",
       "4  RT @autumnbragwell: let’s settle this:\\nDoes p...  140   \n",
       "5  Talking about how good you are at cutting peop...  140   \n",
       "6  Writing readable python code .\\n\\nhttps://t.co...   55   \n",
       "7  I was wrong about the Bluetooth connectivity ....   89   \n",
       "8  Does anyone know or is part of an active Linux...   68   \n",
       "9  RT @linuxTheTux: How to reset a Windows passwo...   83   \n",
       "\n",
       "                    ID                Date              Source  Likes     RTs  \\\n",
       "0  1033418990490714112 2018-08-25 18:21:01        Twitter Lite      0       8   \n",
       "1  1032626200307478528 2018-08-23 13:50:46  Twitter Web Client      0       0   \n",
       "2  1032326023159984128 2018-08-22 17:57:58        Twitter Lite      0       3   \n",
       "3  1032242997398781952 2018-08-22 12:28:03        Twitter Lite      0     692   \n",
       "4  1031949769365757952 2018-08-21 17:02:52        Twitter Lite      0  247582   \n",
       "5  1031435046358589440 2018-08-20 06:57:32        Twitter Lite      6       0   \n",
       "6  1031043759226724352 2018-08-19 05:02:42        Twitter Lite      0       0   \n",
       "7  1030794616252104704 2018-08-18 12:32:42        Twitter Lite      0       0   \n",
       "8  1030403309998354432 2018-08-17 10:37:47        Twitter Lite      0       0   \n",
       "9  1030398708452651008 2018-08-17 10:19:30        Twitter Lite      0       1   \n",
       "\n",
       "   SA  \n",
       "0   0  \n",
       "1   0  \n",
       "2   0  \n",
       "3   0  \n",
       "4   0  \n",
       "5   0  \n",
       "6   0  \n",
       "7   0  \n",
       "8   0  \n",
       "9   0  "
      ]
     },
     "metadata": {},
     "output_type": "display_data"
    }
   ],
   "source": [
    "# create a column with the result of the analysis:\n",
    "data['SA'] = np.array([ analize_sentiment(tweet) for tweet in data['Tweets'] ])\n",
    "\n",
    "# display the updated dataframe with the new column:\n",
    "display(data.head(10))\n"
   ]
  },
  {
   "cell_type": "code",
   "execution_count": 81,
   "metadata": {},
   "outputs": [
    {
     "name": "stdout",
     "output_type": "stream",
     "text": [
      "Percentage of positive tweets: 0.0%\n",
      "Percentage of neutral tweets: 100.0%\n",
      "Percentage de negative tweets: 0.0%\n"
     ]
    }
   ],
   "source": [
    "pos_tweets = [ tweet for index, tweet in enumerate(data['Tweets']) if data['SA'][index] > 0]\n",
    "neu_tweets = [ tweet for index, tweet in enumerate(data['Tweets']) if data['SA'][index] == 0]\n",
    "neg_tweets = [ tweet for index, tweet in enumerate(data['Tweets']) if data['SA'][index] < 0]\n",
    "\n",
    "print(\"Percentage of positive tweets: {}%\".format(len(pos_tweets)*100/len(data['Tweets'])))\n",
    "print(\"Percentage of neutral tweets: {}%\".format(len(neu_tweets)*100/len(data['Tweets'])))\n",
    "print(\"Percentage de negative tweets: {}%\".format(len(neg_tweets)*100/len(data['Tweets'])))\n",
    "\n"
   ]
  },
  {
   "cell_type": "markdown",
   "metadata": {},
   "source": [
    "<p>It is important to note that we are only working with 200 recent tweets for more accurate results we need more data.</p>"
   ]
  }
 ],
 "metadata": {
  "kernelspec": {
   "display_name": "Python 3",
   "language": "python",
   "name": "python3"
  },
  "language_info": {
   "codemirror_mode": {
    "name": "ipython",
    "version": 3
   },
   "file_extension": ".py",
   "mimetype": "text/x-python",
   "name": "python",
   "nbconvert_exporter": "python",
   "pygments_lexer": "ipython3",
   "version": "3.6.5"
  }
 },
 "nbformat": 4,
 "nbformat_minor": 2
}
