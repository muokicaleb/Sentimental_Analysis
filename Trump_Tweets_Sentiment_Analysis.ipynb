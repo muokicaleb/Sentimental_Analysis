{
 "cells": [
  {
   "cell_type": "markdown",
   "metadata": {},
   "source": [
    "# Sentiment Analyisis On Trumps Tweets\n",
    "<p>The objectives of this project are:\n",
    "<ol>\n",
    "    <li>Extract twitter data using tweepy and pandas</li>\n",
    "    <li>Statistics and visualizations with numpy, matplotlib and seaborn</li>\n",
    "    <li>Sentimental analysis on tweets using textblob</li>\n",
    "</ol>\n",
    "</p>\n",
    "\n",
    "<h3>Requirements</h3>\n",
    "<ul>\n",
    "    <li>Python3.6/2.7</li>\n",
    "    <li>numpy</li>\n",
    "    <li>pandas</li>\n",
    "    <li>Matplotlib</li>\n",
    "    <li>Seaborn</li>\n",
    "    <li>Textblob</li>\n",
    "</ul>"
   ]
  }
 ],
 "metadata": {
  "kernelspec": {
   "display_name": "Python 3",
   "language": "python",
   "name": "python3"
  },
  "language_info": {
   "codemirror_mode": {
    "name": "ipython",
    "version": 3
   },
   "file_extension": ".py",
   "mimetype": "text/x-python",
   "name": "python",
   "nbconvert_exporter": "python",
   "pygments_lexer": "ipython3",
   "version": "3.6.5"
  }
 },
 "nbformat": 4,
 "nbformat_minor": 2
}
