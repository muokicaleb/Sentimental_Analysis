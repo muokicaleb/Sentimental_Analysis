{
 "cells": [
  {
   "cell_type": "markdown",
   "metadata": {},
   "source": [
    "# Sentiment Analyisis On Trumps Tweets\n",
    "<p>The objectives of this project are:\n",
    "<ol>\n",
    "    <li>Extract twitter data using tweepy and pandas</li>\n",
    "    <li>Statistics and visualizations with numpy, matplotlib and seaborn</li>\n",
    "    <li>Sentimental analysis on tweets using textblob</li>\n",
    "</ol>\n",
    "</p>\n",
    "\n",
    "<h3>Requirements</h3>\n",
    "<ul>\n",
    "    <li>Python3.6/2.7</li>\n",
    "    <li>numpy</li>\n",
    "    <li>pandas</li>\n",
    "    <li>Matplotlib</li>\n",
    "    <li>Seaborn</li>\n",
    "    <li>Textblob</li>\n",
    "</ul>"
   ]
  },
  {
   "cell_type": "code",
   "execution_count": 1,
   "metadata": {},
   "outputs": [],
   "source": [
    "import matplotlib.pyplot as plt      #plotting\n",
    "import numpy as np                    # number computation\n",
    "import pandas as pd                   # Data Handling\n",
    "import seaborn as sns                 #data visualization library based on matplotlib\n",
    "import tweepy                         #twitter's API\n",
    "import twitter_credentials            # this is a file that includes twitter creds\n",
    "from IPython.display import display\n",
    "\n",
    "\n",
    "#print the graphs in the browser window\n",
    "%matplotlib inline "
   ]
  },
  {
   "cell_type": "code",
   "execution_count": 2,
   "metadata": {},
   "outputs": [],
   "source": [
    "def twitter_setup():\n",
    "    auth = tweepy.OAuthHandler(twitter_credentials.CONSUMER_KEY, twitter_credentials.CONSUMER_SECRET)\n",
    "    auth.set_access_token(twitter_credentials.ACCESS_TOKEN, twitter_credentials.ACCESS_TOKEN_SECRET)\n",
    "    api = tweepy.API(auth)\n",
    "    return api"
   ]
  },
  {
   "cell_type": "markdown",
   "metadata": {},
   "source": [
    "<h3>Tweet extraction</h3>"
   ]
  },
  {
   "cell_type": "code",
   "execution_count": 3,
   "metadata": {},
   "outputs": [
    {
     "name": "stdout",
     "output_type": "stream",
     "text": [
      "Tweets Extracted: 200.\n",
      "\n"
     ]
    }
   ],
   "source": [
    "# call the function we had created\n",
    "extractor = twitter_setup()\n",
    "\n",
    "# using the api we make a list of the latest 200 tweets py realDonaldTrump\n",
    "tweets = extractor.user_timeline(screen_name=\"realDonaldTrump\", count = 200)\n",
    "\n",
    "print(\"Tweets Extracted: {}.\\n\".format(len(tweets)))"
   ]
  },
  {
   "cell_type": "markdown",
   "metadata": {},
   "source": [
    "<p>As expected we have extracted 200 tweets.<br/>\n",
    "api.user_timeline() takes a couple of arguments in our case we specified the screen_name of the user we wanted if we hadn't it would have used our own username by default. We set the number of tweets to 200. by default the rate is lower than 200.<br/>\n",
    "</p>\n",
    "<p>We can print the first 10 tweets.</p>"
   ]
  },
  {
   "cell_type": "code",
   "execution_count": 4,
   "metadata": {},
   "outputs": [
    {
     "name": "stdout",
     "output_type": "stream",
     "text": [
      "recent 10 tweeets\n",
      "Fantastic numbers on consumer spending released on Friday. Stock Market hits all time high!\n",
      "\n",
      "...And it will get, as I have always said, much better from even here! https://t.co/El26RzBjpG\n",
      "\n",
      "RT @realDonaldTrump: Social Media Giants are silencing millions of people. Can’t do this even if it means we must continue to hear Fake New…\n",
      "\n",
      "RT @realDonaldTrump: Big story out that the FBI ignored tens of thousands of Crooked Hillary Emails, many of which are REALLY BAD. Also gav…\n",
      "\n",
      "RT @realDonaldTrump: ....FISA abuse, Christopher Steele &amp; his phony and corrupt Dossier, the Clinton Foundation, illegal surveillance of Tr…\n",
      "\n",
      "RT @realDonaldTrump: “Department of Justice will not be improperly influenced by political considerations.” Jeff, this is GREAT, what every…\n",
      "\n",
      "My deepest sympathies and respect go out to the family of Senator John McCain. Our hearts and prayers are with you!\n",
      "\n",
      "Stock Market hit all time high on Friday. Congratulations U.S.A.!\n",
      "\n",
      "Our relationship with Mexico is getting closer by the hour. Some really good people within both the new and old gov… https://t.co/aiZGDleTBQ\n",
      "\n",
      "“The FBI looked at less than 1%” of Crooked’s Emails!\n",
      "\n"
     ]
    }
   ],
   "source": [
    "# we can print the first 10 tweets\n",
    "print(\"recent 10 tweeets\")\n",
    "for tweet in tweets[:10]:\n",
    "    print(tweet.text)\n",
    "    print()"
   ]
  },
  {
   "cell_type": "code",
   "execution_count": null,
   "metadata": {},
   "outputs": [],
   "source": []
  }
 ],
 "metadata": {
  "kernelspec": {
   "display_name": "Python 3",
   "language": "python",
   "name": "python3"
  },
  "language_info": {
   "codemirror_mode": {
    "name": "ipython",
    "version": 3
   },
   "file_extension": ".py",
   "mimetype": "text/x-python",
   "name": "python",
   "nbconvert_exporter": "python",
   "pygments_lexer": "ipython3",
   "version": "3.6.5"
  }
 },
 "nbformat": 4,
 "nbformat_minor": 2
}
