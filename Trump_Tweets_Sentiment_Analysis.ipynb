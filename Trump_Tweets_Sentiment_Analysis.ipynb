{
 "cells": [
  {
   "cell_type": "markdown",
   "metadata": {},
   "source": [
    "# Sentiment Analyisis On Trumps Tweets\n",
    "<p>The objectives of this project are:\n",
    "<ol>\n",
    "    <li>Extract twitter data using tweepy and pandas</li>\n",
    "    <li>Statistics and visualizations with numpy, matplotlib and seaborn</li>\n",
    "    <li>Sentimental analysis on tweets using textblob</li>\n",
    "</ol>\n",
    "</p>\n",
    "\n",
    "<h3>Requirements</h3>\n",
    "<ul>\n",
    "    <li>Python3.6/2.7</li>\n",
    "    <li>numpy</li>\n",
    "    <li>pandas</li>\n",
    "    <li>Matplotlib</li>\n",
    "    <li>Seaborn</li>\n",
    "    <li>Textblob</li>\n",
    "</ul>"
   ]
  },
  {
   "cell_type": "code",
   "execution_count": 1,
   "metadata": {},
   "outputs": [],
   "source": [
    "import matplotlib.pyplot as plt      #plotting\n",
    "import numpy as np                    # number computation\n",
    "import pandas as pd                   # Data Handling\n",
    "import seaborn as sns                 #data visualization library based on matplotlib\n",
    "import tweepy                         #twitter's API\n",
    "import twitter_credentials            # this is a file that includes twitter creds\n",
    "from IPython.display import display\n",
    "\n",
    "\n",
    "#print the graphs in the browser window\n",
    "%matplotlib inline "
   ]
  },
  {
   "cell_type": "code",
   "execution_count": 2,
   "metadata": {},
   "outputs": [],
   "source": [
    "def twitter_setup():\n",
    "    auth = tweepy.OAuthHandler(twitter_credentials.CONSUMER_KEY, twitter_credentials.CONSUMER_SECRET)\n",
    "    auth.set_access_token(twitter_credentials.ACCESS_TOKEN, twitter_credentials.ACCESS_TOKEN_SECRET)\n",
    "    api = tweepy.API(auth)\n",
    "    return api"
   ]
  },
  {
   "cell_type": "markdown",
   "metadata": {},
   "source": [
    "<h3>Tweet extraction</h3>"
   ]
  },
  {
   "cell_type": "code",
   "execution_count": 3,
   "metadata": {},
   "outputs": [
    {
     "name": "stdout",
     "output_type": "stream",
     "text": [
      "Tweets Extracted: 200.\n",
      "\n"
     ]
    }
   ],
   "source": [
    "# call the function we had created\n",
    "extractor = twitter_setup()\n",
    "\n",
    "# using the api we make a list of the latest 200 tweets py realDonaldTrump\n",
    "tweets = extractor.user_timeline(screen_name=\"realDonaldTrump\", count = 200)\n",
    "\n",
    "print(\"Tweets Extracted: {}.\\n\".format(len(tweets)))"
   ]
  },
  {
   "cell_type": "markdown",
   "metadata": {},
   "source": [
    "<p>As expected we have extracted 200 tweets.<br/>\n",
    "api.user_timeline() takes a couple of arguments in our case we specified the screen_name of the user we wanted if we hadn't it would have used our own username by default. We set the number of tweets to 200. by default the rate is lower than 200.<br/>\n",
    "</p>\n",
    "<p>We can print the first 10 tweets.</p>"
   ]
  },
  {
   "cell_type": "code",
   "execution_count": 4,
   "metadata": {},
   "outputs": [
    {
     "name": "stdout",
     "output_type": "stream",
     "text": [
      "recent 10 tweeets\n",
      "Fantastic numbers on consumer spending released on Friday. Stock Market hits all time high!\n",
      "\n",
      "...And it will get, as I have always said, much better from even here! https://t.co/El26RzBjpG\n",
      "\n",
      "RT @realDonaldTrump: Social Media Giants are silencing millions of people. Can’t do this even if it means we must continue to hear Fake New…\n",
      "\n",
      "RT @realDonaldTrump: Big story out that the FBI ignored tens of thousands of Crooked Hillary Emails, many of which are REALLY BAD. Also gav…\n",
      "\n",
      "RT @realDonaldTrump: ....FISA abuse, Christopher Steele &amp; his phony and corrupt Dossier, the Clinton Foundation, illegal surveillance of Tr…\n",
      "\n",
      "RT @realDonaldTrump: “Department of Justice will not be improperly influenced by political considerations.” Jeff, this is GREAT, what every…\n",
      "\n",
      "My deepest sympathies and respect go out to the family of Senator John McCain. Our hearts and prayers are with you!\n",
      "\n",
      "Stock Market hit all time high on Friday. Congratulations U.S.A.!\n",
      "\n",
      "Our relationship with Mexico is getting closer by the hour. Some really good people within both the new and old gov… https://t.co/aiZGDleTBQ\n",
      "\n",
      "“The FBI looked at less than 1%” of Crooked’s Emails!\n",
      "\n"
     ]
    }
   ],
   "source": [
    "# we can print the first 10 tweets\n",
    "print(\"recent 10 tweeets\")\n",
    "for tweet in tweets[:10]:\n",
    "    print(tweet.text)\n",
    "    print()"
   ]
  },
  {
   "cell_type": "markdown",
   "metadata": {},
   "source": [
    "<h3>Creating a Dataframe</h3>\n",
    "Using a dataframe will enable us to easily manipulate data extracted."
   ]
  },
  {
   "cell_type": "code",
   "execution_count": 5,
   "metadata": {},
   "outputs": [
    {
     "data": {
      "text/html": [
       "<div>\n",
       "<style scoped>\n",
       "    .dataframe tbody tr th:only-of-type {\n",
       "        vertical-align: middle;\n",
       "    }\n",
       "\n",
       "    .dataframe tbody tr th {\n",
       "        vertical-align: top;\n",
       "    }\n",
       "\n",
       "    .dataframe thead th {\n",
       "        text-align: right;\n",
       "    }\n",
       "</style>\n",
       "<table border=\"1\" class=\"dataframe\">\n",
       "  <thead>\n",
       "    <tr style=\"text-align: right;\">\n",
       "      <th></th>\n",
       "      <th>Tweets</th>\n",
       "      <th>len</th>\n",
       "      <th>ID</th>\n",
       "      <th>Date</th>\n",
       "      <th>Source</th>\n",
       "      <th>Likes</th>\n",
       "      <th>RTs</th>\n",
       "    </tr>\n",
       "  </thead>\n",
       "  <tbody>\n",
       "    <tr>\n",
       "      <th>0</th>\n",
       "      <td>Fantastic numbers on consumer spending release...</td>\n",
       "      <td>91</td>\n",
       "      <td>1033723516116500481</td>\n",
       "      <td>2018-08-26 14:31:06</td>\n",
       "      <td>Twitter for iPhone</td>\n",
       "      <td>31444</td>\n",
       "      <td>7562</td>\n",
       "    </tr>\n",
       "    <tr>\n",
       "      <th>1</th>\n",
       "      <td>...And it will get, as I have always said, muc...</td>\n",
       "      <td>94</td>\n",
       "      <td>1033722550881329152</td>\n",
       "      <td>2018-08-26 14:27:16</td>\n",
       "      <td>Twitter for iPhone</td>\n",
       "      <td>24126</td>\n",
       "      <td>6094</td>\n",
       "    </tr>\n",
       "    <tr>\n",
       "      <th>2</th>\n",
       "      <td>RT @realDonaldTrump: Social Media Giants are s...</td>\n",
       "      <td>140</td>\n",
       "      <td>1033722177156247552</td>\n",
       "      <td>2018-08-26 14:25:47</td>\n",
       "      <td>Twitter for iPhone</td>\n",
       "      <td>0</td>\n",
       "      <td>46352</td>\n",
       "    </tr>\n",
       "    <tr>\n",
       "      <th>3</th>\n",
       "      <td>RT @realDonaldTrump: Big story out that the FB...</td>\n",
       "      <td>140</td>\n",
       "      <td>1033721802000936960</td>\n",
       "      <td>2018-08-26 14:24:17</td>\n",
       "      <td>Twitter for iPhone</td>\n",
       "      <td>0</td>\n",
       "      <td>36328</td>\n",
       "    </tr>\n",
       "    <tr>\n",
       "      <th>4</th>\n",
       "      <td>RT @realDonaldTrump: ....FISA abuse, Christoph...</td>\n",
       "      <td>144</td>\n",
       "      <td>1033706057330241537</td>\n",
       "      <td>2018-08-26 13:21:44</td>\n",
       "      <td>Twitter for iPhone</td>\n",
       "      <td>0</td>\n",
       "      <td>27219</td>\n",
       "    </tr>\n",
       "    <tr>\n",
       "      <th>5</th>\n",
       "      <td>RT @realDonaldTrump: “Department of Justice wi...</td>\n",
       "      <td>140</td>\n",
       "      <td>1033706045988892672</td>\n",
       "      <td>2018-08-26 13:21:41</td>\n",
       "      <td>Twitter for iPhone</td>\n",
       "      <td>0</td>\n",
       "      <td>29666</td>\n",
       "    </tr>\n",
       "    <tr>\n",
       "      <th>6</th>\n",
       "      <td>My deepest sympathies and respect go out to th...</td>\n",
       "      <td>115</td>\n",
       "      <td>1033515425336885248</td>\n",
       "      <td>2018-08-26 00:44:13</td>\n",
       "      <td>Twitter for iPhone</td>\n",
       "      <td>175978</td>\n",
       "      <td>33743</td>\n",
       "    </tr>\n",
       "    <tr>\n",
       "      <th>7</th>\n",
       "      <td>Stock Market hit all time high on Friday. Cong...</td>\n",
       "      <td>65</td>\n",
       "      <td>1033500723709992960</td>\n",
       "      <td>2018-08-25 23:45:48</td>\n",
       "      <td>Twitter for iPhone</td>\n",
       "      <td>109587</td>\n",
       "      <td>23012</td>\n",
       "    </tr>\n",
       "    <tr>\n",
       "      <th>8</th>\n",
       "      <td>Our relationship with Mexico is getting closer...</td>\n",
       "      <td>140</td>\n",
       "      <td>1033343857675644928</td>\n",
       "      <td>2018-08-25 13:22:28</td>\n",
       "      <td>Twitter for iPhone</td>\n",
       "      <td>87954</td>\n",
       "      <td>19969</td>\n",
       "    </tr>\n",
       "    <tr>\n",
       "      <th>9</th>\n",
       "      <td>“The FBI looked at less than 1%” of Crooked’s ...</td>\n",
       "      <td>53</td>\n",
       "      <td>1033341788491317255</td>\n",
       "      <td>2018-08-25 13:14:15</td>\n",
       "      <td>Twitter for iPhone</td>\n",
       "      <td>89020</td>\n",
       "      <td>25985</td>\n",
       "    </tr>\n",
       "  </tbody>\n",
       "</table>\n",
       "</div>"
      ],
      "text/plain": [
       "                                              Tweets  len  \\\n",
       "0  Fantastic numbers on consumer spending release...   91   \n",
       "1  ...And it will get, as I have always said, muc...   94   \n",
       "2  RT @realDonaldTrump: Social Media Giants are s...  140   \n",
       "3  RT @realDonaldTrump: Big story out that the FB...  140   \n",
       "4  RT @realDonaldTrump: ....FISA abuse, Christoph...  144   \n",
       "5  RT @realDonaldTrump: “Department of Justice wi...  140   \n",
       "6  My deepest sympathies and respect go out to th...  115   \n",
       "7  Stock Market hit all time high on Friday. Cong...   65   \n",
       "8  Our relationship with Mexico is getting closer...  140   \n",
       "9  “The FBI looked at less than 1%” of Crooked’s ...   53   \n",
       "\n",
       "                    ID                Date              Source   Likes    RTs  \n",
       "0  1033723516116500481 2018-08-26 14:31:06  Twitter for iPhone   31444   7562  \n",
       "1  1033722550881329152 2018-08-26 14:27:16  Twitter for iPhone   24126   6094  \n",
       "2  1033722177156247552 2018-08-26 14:25:47  Twitter for iPhone       0  46352  \n",
       "3  1033721802000936960 2018-08-26 14:24:17  Twitter for iPhone       0  36328  \n",
       "4  1033706057330241537 2018-08-26 13:21:44  Twitter for iPhone       0  27219  \n",
       "5  1033706045988892672 2018-08-26 13:21:41  Twitter for iPhone       0  29666  \n",
       "6  1033515425336885248 2018-08-26 00:44:13  Twitter for iPhone  175978  33743  \n",
       "7  1033500723709992960 2018-08-25 23:45:48  Twitter for iPhone  109587  23012  \n",
       "8  1033343857675644928 2018-08-25 13:22:28  Twitter for iPhone   87954  19969  \n",
       "9  1033341788491317255 2018-08-25 13:14:15  Twitter for iPhone   89020  25985  "
      ]
     },
     "metadata": {},
     "output_type": "display_data"
    }
   ],
   "source": [
    "data = pd.DataFrame(data=[tweet.text for tweet in tweets], columns=['Tweets'])\n",
    "data['len']  = np.array([len(tweet.text) for tweet in tweets])\n",
    "data['ID']   = np.array([tweet.id for tweet in tweets])\n",
    "data['Date'] = np.array([tweet.created_at for tweet in tweets])\n",
    "data['Source'] = np.array([tweet.source for tweet in tweets])\n",
    "data['Likes']  = np.array([tweet.favorite_count for tweet in tweets])\n",
    "data['RTs']    = np.array([tweet.retweet_count for tweet in tweets])\n",
    "\n",
    "#To display the first 10 tweets\n",
    "display(data.head(10))\n",
    "\n",
    "\n"
   ]
  },
  {
   "cell_type": "markdown",
   "metadata": {},
   "source": [
    "## Visualization and statistics\n"
   ]
  },
  {
   "cell_type": "code",
   "execution_count": null,
   "metadata": {},
   "outputs": [],
   "source": []
  }
 ],
 "metadata": {
  "kernelspec": {
   "display_name": "Python 3",
   "language": "python",
   "name": "python3"
  },
  "language_info": {
   "codemirror_mode": {
    "name": "ipython",
    "version": 3
   },
   "file_extension": ".py",
   "mimetype": "text/x-python",
   "name": "python",
   "nbconvert_exporter": "python",
   "pygments_lexer": "ipython3",
   "version": "3.6.5"
  }
 },
 "nbformat": 4,
 "nbformat_minor": 2
}
